{
 "cells": [
  {
   "cell_type": "code",
   "execution_count": 1,
   "metadata": {},
   "outputs": [
    {
     "name": "stdout",
     "output_type": "stream",
     "text": [
      "mensagem de teste\n"
     ]
    }
   ],
   "source": [
    "class Classe:\n",
    "\tdef metodo(self):\n",
    "\t\tprint('mensagem de teste')\n",
    "\n",
    "Classe().metodo()"
   ]
  },
  {
   "cell_type": "code",
   "execution_count": 2,
   "metadata": {},
   "outputs": [
    {
     "name": "stdout",
     "output_type": "stream",
     "text": [
      "método da classe 1\n",
      "método da classe 2\n"
     ]
    }
   ],
   "source": [
    "class Classe1:\n",
    "\tdef metodo1(self):\n",
    "\t\tprint('método da classe 1')\n",
    "\n",
    "class Classe2:\n",
    "\tdef metodo2(self):\n",
    "\t\tprint('método da classe 2')\n",
    "\n",
    "Classe1().metodo1()\n",
    "Classe2().metodo2()"
   ]
  },
  {
   "cell_type": "code",
   "execution_count": 3,
   "metadata": {},
   "outputs": [
    {
     "name": "stdout",
     "output_type": "stream",
     "text": [
      "seja bem vindo\n",
      "até logo\n"
     ]
    }
   ],
   "source": [
    "class Mensagens:\n",
    "\tdef saudacao(self):\n",
    "\t\tprint('seja bem vindo')\n",
    "\n",
    "\tdef despedida(self):\n",
    "\t\tprint('até logo')\n",
    "\n",
    "Mensagens().saudacao()\n",
    "Mensagens().despedida()"
   ]
  },
  {
   "cell_type": "code",
   "execution_count": null,
   "metadata": {},
   "outputs": [],
   "source": []
  }
 ],
 "metadata": {
  "kernelspec": {
   "display_name": "Python 3 (Spyder)",
   "language": "python3",
   "name": "python3"
  },
  "language_info": {
   "codemirror_mode": {
    "name": "ipython",
    "version": 3
   },
   "file_extension": ".py",
   "mimetype": "text/x-python",
   "name": "python",
   "nbconvert_exporter": "python",
   "pygments_lexer": "ipython3",
   "version": "3.8.5"
  }
 },
 "nbformat": 4,
 "nbformat_minor": 4
}
